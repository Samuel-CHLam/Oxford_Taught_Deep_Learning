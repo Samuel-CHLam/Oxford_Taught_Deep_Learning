{
  "cells": [
    {
      "cell_type": "markdown",
      "metadata": {
        "id": "view-in-github",
        "colab_type": "text"
      },
      "source": [
        "<a href=\"https://colab.research.google.com/github/Samuel-CHLam/Oxford_Taught_Deep_Learning/blob/main/Theory_of_Deep_Learning_MT2022_PS1.ipynb\" target=\"_parent\"><img src=\"https://colab.research.google.com/assets/colab-badge.svg\" alt=\"Open In Colab\"/></a>"
      ]
    },
    {
      "cell_type": "markdown",
      "metadata": {
        "id": "G2Ea0Ks-g87k"
      },
      "source": [
        "# 1. Training Networks\n",
        "In this section we will build two Neural Networks, one from scratch, and one based on the high-level functions provided by Tensorflow.\n",
        "\n",
        "We will build a net from scratch to solve the XOR problem, and to do this we will rely on the backpropagation formulae that you will derive. We will also build a network with Tensorflow to introduce you to their API."
      ]
    },
    {
      "cell_type": "markdown",
      "metadata": {
        "id": "iYxuEwxsQAbr"
      },
      "source": [
        "**Part (a)**: Consider a standard feedforward network defined by $h_1 = x$ and $h_{j+1} = \\sigma(W^{(j)} h_j + b^{(j)})$ for $j = 1,..., N − 1$, and define the loss as the sum of squared errors, $L(b,W) = \\sum_{i=1}^n \\|h_N(x_i) − y_i\\|^2$. Derive the formulae used for ‘backpropagation’, which would be used to update the weights and biases in the network when optimising the loss function using gradient descent."
      ]
    },
    {
      "cell_type": "markdown",
      "metadata": {
        "id": "HpHsHh8VQCQ9"
      },
      "source": [
        "*Solution.* We first derive the backpropagation for the $j=N-1$ weights and bias. For simplicity, we define $z^{(j)} = W^{(j)} h_j + b^{(j)}$, and we adopt the notation of $[z]_k$ being the $k$-th entry of the vector $z$. \n",
        "\n",
        "We note that $L(b,W) = \\sum_{i=1}^n L_i(b,W)$ where $L_i(b,W) = \\|h_N(x_i) - y_i \\|^2$. We will derive the derivatives for $L_i$ -- the derivatives for $L$ is the sum of derivatives for $L_i$. We finally note that \n",
        "\n",
        "$$\n",
        "\\begin{aligned}\n",
        "L_i(b,W) &= \\sum_{k} [h_N(x_i) - y_i]^2_k \\\\\n",
        "&= \\sum_{k} [\\sigma(z^{(N-1)}) - y_i]^2_k \\\\\n",
        "&= \\sum_{k} \\left(\\left[\\sigma(W^{(N-1)} h_{N-1} + b^{(N-1)})\\right]_k - [y_i]_k \\right)^2 \\\\\n",
        "&= \\sum_{k} \\left(\\sigma \\left( [W^{(N-1)} h_{N-1}]_k + b^{(N-1)}_k \\right) - [y_i]_k \\right)^2 \\\\\n",
        "&= \\sum_{k} \\left(\\sigma \\left( \\sum_{\\ell} W^{(N-1)}_{k,\\ell} h^{(N-1)}_\\ell + b^{(N-1)}_k \\right) - [y_i]_k \\right)^2\n",
        "\\end{aligned}$$\n",
        "\n",
        "We then have\n",
        "$$\n",
        "\\frac{\\partial L_i}{\\partial z^{(N-1)}_k} = 2\\left(\\sigma \\left( z^{(N-1)}_k \\right) - [y_i]_k \\right) \\sigma'(z^{(N-1)}_k),\n",
        "$$\n",
        "and \n",
        "$$\n",
        "\\frac{\\partial L_i}{\\partial b^{(N-1)}_k} = \\frac{\\partial L}{\\partial z^{(N-1)}_k} = 2\\left(\\sigma \\left( z^{(N-1)}_k \\right) - [y_i]_k \\right) \\sigma'(z^{(N-1)}_k).\n",
        "$$\n",
        "\n",
        "Moreover, we have\n",
        "$$\\frac{\\partial L_i}{\\partial W^{(N-1)}_{k,\\ell}} = 2\\left(\\sigma \\left( z^{(N-1)}_k \\right) - [y_i]_k \\right) \\sigma'(z^{(N-1)}_k) h_\\ell^{(N-1)}$$\n",
        "\n",
        "As a result, we have the following total derivatives:\n",
        "$$\\nabla_{b^{(N-1)}} L_i = 2(h_N(x_i) - y_i) \\odot \\sigma'(z^{(N-1)})$$\n",
        "and \n",
        "$$\\nabla_{W^{(N-1)}} L_i= 2\\left[(h_N(x_i) - y_i) \\odot \\sigma'(z^{(N-1)}) \\right] \\left(h_{N-1} \\right)^\\top$$\n",
        "\n",
        "Let us also record the following result:\n",
        "$$\\frac{\\partial L_i}{\\partial [h_{N-1}]_\\ell} = 2\\left(\\sigma \\left( z^{(N-1)}_k \\right) - [y_i]_k \\right) \\sigma'(z^{(N-1)}_k) W_{k,\\ell}$$\n",
        "\n",
        "Since $W_{k,\\ell} = W^\\top_{\\ell,k}$, we have\n",
        "$$\\nabla_{h^{(N-1)}} L_i = 2(W^{(N-1)})^\\top \\left[(h_N(x_i) - y_i) \\odot \\sigma'(z^{(N-1)}) \\right]$$\n",
        "\n",
        "We may follow similar method to derive the recursive formula for \"backpropagation\". In fact, we have, for $j \\leq N-1$,\n",
        "\n",
        "$$\n",
        "\\begin{aligned}\n",
        "\\nabla_{b^{(j-1)}} L_i &= \\nabla_{h^{(j)}} L_i \\odot \\sigma'(z^{(j-1)}) \\\\\n",
        "\\nabla_{W^{(j-1)}} L_i &= \\nabla_{h^{(j)}} L_i \\odot \\sigma'(z^{(j-1)}) \\left(h_{j-1} \\right)^\\top \\\\\n",
        "\\nabla_{h^{(j-1)}} L_i &= \\left(W^{(j-1)} \\right)^\\top \\nabla_{h^{(j)}} L_i\n",
        "\\end{aligned}\n",
        "$$"
      ]
    },
    {
      "cell_type": "markdown",
      "metadata": {
        "id": "ptfXqkaZiLMM"
      },
      "source": [
        "**Part (b) XOR problem - NN from Scratch**\n",
        "\n",
        "In this problem we have four possible inputs with two possible outcomes; \n",
        "\n",
        " \n",
        "> $x_1 = 0, x_2 = 0 \\Rightarrow XOR(x_1,x_2)=0$\n",
        "\n",
        "> $x_1 = 0, x_2 = 1 \\Rightarrow XOR(x_1,x_2)=1$\n",
        "\n",
        "> $x_1 = 1, x_2 = 0 \\Rightarrow XOR(x_1,x_2)=1$\n",
        "\n",
        "> $x_1 = 1, x_2 = 1 \\Rightarrow XOR(x_1,x_2)=0$\n",
        "\n",
        "In the problem sheet you may have noticed that a two layer NN  could solve this problem exactly. Here we will see that on a 2-layer net with Sigmoid activation functions, with a random intialisation and the mean square loss, back-prop is able to converge to a pseudo-optimal solution. We will then consider a visualisation of how the neural network divides the input space as a classifier.\n",
        "\n"
      ]
    },
    {
      "cell_type": "markdown",
      "metadata": {
        "id": "Dz4eQDGFI7b0"
      },
      "source": [
        "**Exercise** The class for the NeuralNet is already defined except for the backpropagation function, which you have to complete.\n",
        "\n",
        "Note: Once you have implemented backprop, if you get poor performance, try running the cell again."
      ]
    },
    {
      "cell_type": "code",
      "execution_count": 3,
      "metadata": {
        "id": "ZBiFs8xZGNlM"
      },
      "outputs": [],
      "source": [
        "import numpy as np\n",
        "\n",
        "def sigmoid(x):\n",
        "    return 1.0/(1+ np.exp(-x))\n",
        "    \n",
        "def sigmoid_derivative(x):\n",
        "    return x * (1.0 - x)\n",
        "\n",
        "class NeuralNetwork:\n",
        "    def __init__(self, x, y):\n",
        "        dimension = 2\n",
        "        self.input        = x\n",
        "        self.weights1     = np.random.rand(dimension, x.shape[1])      #np.array([[-1,1],[1,-1]], dtype=np.float)\n",
        "        self.weights2     = np.random.rand(1,dimension)      \n",
        "        self.bias1        = np.random.rand(dimension,1)      #0.5*np.ones((dimension,1))\n",
        "        self.bias2        = np.random.rand(1,1)           \n",
        "        self.y            = y\n",
        "        self.output       = np.zeros(self.y.shape)\n",
        "        self.activation   = sigmoid\n",
        "        self.d_activation = sigmoid_derivative\n",
        "\n",
        "    def feedforward(self,x):\n",
        "        self.x = np.expand_dims(x,axis =1)\n",
        "        self.layer1 = self.activation(self.weights1 @  self.x + self.bias1)\n",
        "        self.output = self.activation(self.weights2 @ self.layer1 + self.bias2)\n",
        "\n",
        "    def call(self,x):\n",
        "        x = np.expand_dims(x,axis =1)\n",
        "        layer1 = self.activation(self.weights1 @  x + self.bias1)\n",
        "        output = self.activation(self.weights2 @ layer1 + self.bias2)\n",
        "        return output\n",
        "\n",
        "    def backprop(self):\n",
        "        # application of the chain rule to find derivative of the loss function with respect to weights2 and weights1\n",
        "        d_weights1 = np.zeros(self.weights1.shape)\n",
        "        d_weights2 = np.zeros(self.weights2.shape)\n",
        "        d_bias1    = np.zeros(self.bias1.shape)\n",
        "        d_bias2    = np.zeros(self.bias2.shape)\n",
        "        \n",
        "        for j in range(4):\n",
        "          # compute gradient per each input image\n",
        "          single_input = self.input[j]\n",
        "          self.feedforward(single_input)\n",
        "\n",
        "          d_bias2    += 2 * (self.output - self.y[j][0]) * sigmoid_derivative(self.output) \n",
        "          d_weights2 += 2 * ((self.output - self.y[j][0]) * sigmoid_derivative(self.output)) @ self.layer1.T\n",
        "          d_h1       =  2 * self.weights2.T @ ((self.output - self.y[j][0]) * sigmoid_derivative(self.output))\n",
        "          d_bias1    += d_h1 * sigmoid_derivative(self.layer1)\n",
        "          d_weights1 += (d_h1 * sigmoid_derivative(self.layer1)) @ single_input.reshape(-1,1).T\n",
        "\n",
        "        self.weights1 -= d_weights1\n",
        "        self.weights2 -= d_weights2\n",
        "        self.bias1    -= d_bias1\n",
        "        self.bias2    -= d_bias2"
      ]
    },
    {
      "cell_type": "code",
      "execution_count": 4,
      "metadata": {
        "id": "LcIi0lOGp4gd"
      },
      "outputs": [],
      "source": [
        "X = np.array([[0,0],\n",
        "              [0,1],\n",
        "              [1,0],\n",
        "              [1,1]])\n",
        "y = np.array([[0],[1],[1],[0]])\n",
        "\n",
        "nn = NeuralNetwork(X,y)"
      ]
    },
    {
      "cell_type": "code",
      "execution_count": 5,
      "metadata": {
        "colab": {
          "base_uri": "https://localhost:8080/"
        },
        "id": "39eIVqN6p7I8",
        "outputId": "f23ae286-75cf-42a1-d61f-46d72face044"
      },
      "outputs": [
        {
          "output_type": "stream",
          "name": "stderr",
          "text": [
            "100%|██████████| 10000/10000 [00:06<00:00, 1595.88it/s]"
          ]
        },
        {
          "output_type": "stream",
          "name": "stdout",
          "text": [
            "Prediction:\n",
            " [[0]\n",
            " [0]]  ---> [[0.00901307]]\n",
            "Prediction:\n",
            " [[0]\n",
            " [1]]  ---> [[0.9923452]]\n",
            "Prediction:\n",
            " [[1]\n",
            " [0]]  ---> [[0.99234973]]\n",
            "Prediction:\n",
            " [[1]\n",
            " [1]]  ---> [[0.007837]]\n"
          ]
        },
        {
          "output_type": "stream",
          "name": "stderr",
          "text": [
            "\n"
          ]
        }
      ],
      "source": [
        "from tqdm import tqdm\n",
        "for i in tqdm(range(10000)):\n",
        "    nn.backprop()\n",
        "for j in range(4):\n",
        "    nn.feedforward(X[j])\n",
        "    print('Prediction:\\n', nn.x, ' --->' , nn.output)"
      ]
    },
    {
      "cell_type": "markdown",
      "metadata": {
        "id": "7ncvIv2vepg6"
      },
      "source": [
        "Now we will plot how the domain has been split. In the left figure we will see the outputs of the NN, while on the right we visualise the classification of these outputs i.e. any value above 0.5 identifies class 1, 0 otherwise, which shows us the decision boundary of the classifier.\n"
      ]
    },
    {
      "cell_type": "code",
      "execution_count": 6,
      "metadata": {
        "colab": {
          "base_uri": "https://localhost:8080/",
          "height": 275
        },
        "id": "jI1Tv1mAeyl9",
        "outputId": "a1442896-2797-4d0f-d642-5738ac1d1ce2"
      },
      "outputs": [
        {
          "output_type": "execute_result",
          "data": {
            "text/plain": [
              "<matplotlib.colorbar.Colorbar at 0x7f447d3f3f50>"
            ]
          },
          "metadata": {},
          "execution_count": 6
        },
        {
          "output_type": "display_data",
          "data": {
            "text/plain": [
              "<Figure size 432x288 with 4 Axes>"
            ],
            "image/png": "[encoded data removed]"
          },
          "metadata": {
            "needs_background": "light"
          }
        }
      ],
      "source": [
        "import matplotlib.pyplot as plt\n",
        "\n",
        "mu = np.linspace(0,1,100)\n",
        "gamma = np.linspace(0,1,100)\n",
        "\n",
        "# filling the heatmap, value by value\n",
        "fun_map = np.empty((mu.size, gamma.size))\n",
        "for i in range(mu.size):\n",
        "    for j in range(gamma.size):\n",
        "        net_val = nn.call([mu[i], gamma[j]])\n",
        "        if net_val>0.5:\n",
        "          fun_map[i,j] = 1\n",
        "        else:\n",
        "          fun_map[i,j] = 0\n",
        "\n",
        "fun_map_2 = np.empty((mu.size, gamma.size))\n",
        "for i in range(mu.size):\n",
        "    for j in range(gamma.size):\n",
        "        fun_map_2[i,j] = nn.call([mu[i], gamma[j]])\n",
        "\n",
        "fig = plt.figure()\n",
        "s = fig.add_subplot(1, 2, 1, xlabel='$x$', ylabel='$y$')\n",
        "im = s.imshow(\n",
        "    fun_map_2,\n",
        "    extent=(gamma[0], gamma[-1], mu[0], mu[-1]),\n",
        "    origin='lower')\n",
        "fig.colorbar(im)\n",
        "s = fig.add_subplot(1, 2, 2, xlabel='$x$', ylabel='$y$')\n",
        "im = s.imshow(\n",
        "    fun_map,\n",
        "    extent=(gamma[0], gamma[-1], mu[0], mu[-1]),\n",
        "    origin='lower')\n",
        "fig.colorbar(im)\n"
      ]
    },
    {
      "cell_type": "markdown",
      "metadata": {
        "id": "WzDVeZloHFwy"
      },
      "source": [
        "N.B. The transition fase with the sigmoid activation function is sharp, and so the NN more-or-less splits the domain into piecwise constant regions."
      ]
    },
    {
      "cell_type": "markdown",
      "metadata": {
        "id": "lIrwTlPU7iVe"
      },
      "source": [
        "**Part (c): Training MNIST.** First, we have to upload the dataset; keras, an interface for tensorflow, allows us to do this with a one line command. We then can use the Sequence model class from TF to add different layers to our network.\n",
        "\n"
      ]
    },
    {
      "cell_type": "code",
      "execution_count": null,
      "metadata": {
        "colab": {
          "base_uri": "https://localhost:8080/"
        },
        "id": "MJpPyFJyDXC9",
        "outputId": "40cfee70-c624-4b1f-ba8c-881ca9757c19"
      },
      "outputs": [
        {
          "name": "stdout",
          "output_type": "stream",
          "text": [
            "Downloading data from https://storage.googleapis.com/tensorflow/tf-keras-datasets/mnist.npz\n",
            "11490434/11490434 [==============================] - 0s 0us/step\n",
            "(60000, 28, 28)\n"
          ]
        }
      ],
      "source": [
        "from keras.datasets import mnist\n",
        "(train_images, train_labels), (test_images, test_labels)= mnist.load_data()\n",
        "\n",
        "print(train_images.shape) # Check if images are loaded correctly"
      ]
    },
    {
      "cell_type": "markdown",
      "metadata": {
        "id": "U9c213Z3MfrD"
      },
      "source": [
        "**Exercise** You now have to generate a two layer network with hidden dimension of 128 via the sequential command in Tensorflow. This should allow you to achieve 92% accuracy with only 15 epochs of training!!"
      ]
    },
    {
      "cell_type": "code",
      "execution_count": null,
      "metadata": {
        "colab": {
          "base_uri": "https://localhost:8080/"
        },
        "id": "qO2O_0T7MiHb",
        "outputId": "a4b0b198-06f2-4f62-f260-d0991e21a4cd"
      },
      "outputs": [
        {
          "name": "stdout",
          "output_type": "stream",
          "text": [
            "Model: \"sequential_22\"\n",
            "_________________________________________________________________\n",
            " Layer (type)                Output Shape              Param #   \n",
            "=================================================================\n",
            " flatten_18 (Flatten)        (None, 784)               0         \n",
            "                                                                 \n",
            " dense_37 (Dense)            (None, 128)               100480    \n",
            "                                                                 \n",
            " dense_38 (Dense)            (None, 10)                1290      \n",
            "                                                                 \n",
            "=================================================================\n",
            "Total params: 101,770\n",
            "Trainable params: 101,770\n",
            "Non-trainable params: 0\n",
            "_________________________________________________________________\n"
          ]
        }
      ],
      "source": [
        "import numpy as np\n",
        "from keras.models import Sequential\n",
        "from keras.layers import Dense, Flatten\n",
        "from keras import Input\n",
        "from keras.utils import to_categorical\n",
        "\n",
        "# Generate data\n",
        "x_train = train_images\n",
        "y_train = train_labels\n",
        "\n",
        "x_test = test_images\n",
        "y_test = test_labels\n",
        "\n",
        "y_train = to_categorical(y_train, 10)\n",
        "y_test = to_categorical(y_test, 10)\n",
        "\n",
        "# build the architecture with Sequential\n",
        "model = Sequential()\n",
        "model.add(Input(shape=(28,28)))\n",
        "model.add(Flatten())\n",
        "model.add(Dense(128, activation=\"sigmoid\"))\n",
        "model.add(Dense(10, activation=\"sigmoid\"))\n",
        "\n",
        "# Compile the model, which involved shows a loss function, an optimiser, and the performance metrics you want to track\n",
        "model.compile(optimizer='sgd', loss='categorical_crossentropy', metrics=[\"accuracy\"])\n",
        "\n",
        "model.summary()"
      ]
    },
    {
      "cell_type": "code",
      "execution_count": null,
      "metadata": {
        "colab": {
          "background_save": true,
          "base_uri": "https://localhost:8080/"
        },
        "id": "ZVt3HV5hM_bJ",
        "outputId": "35b3eb33-c336-4cdd-e617-93af61f06dc4"
      },
      "outputs": [
        {
          "name": "stdout",
          "output_type": "stream",
          "text": [
            "Epoch 1/15\n",
            "1875/1875 [==============================] - 6s 3ms/step - loss: 0.3461 - accuracy: 0.9080\n",
            "Epoch 2/15\n",
            "1875/1875 [==============================] - 6s 3ms/step - loss: 0.3006 - accuracy: 0.9188\n",
            "Epoch 3/15\n",
            "1875/1875 [==============================] - 6s 3ms/step - loss: 0.2807 - accuracy: 0.9207\n",
            "Epoch 4/15\n",
            "1875/1875 [==============================] - 6s 3ms/step - loss: 0.2597 - accuracy: 0.9271\n",
            "Epoch 5/15\n",
            "1875/1875 [==============================] - 6s 3ms/step - loss: 0.2444 - accuracy: 0.9312\n",
            "Epoch 6/15\n",
            "1875/1875 [==============================] - 6s 3ms/step - loss: 0.2390 - accuracy: 0.9324\n",
            "Epoch 7/15\n",
            "1875/1875 [==============================] - 6s 3ms/step - loss: 0.2295 - accuracy: 0.9354\n",
            "Epoch 8/15\n",
            "1875/1875 [==============================] - 6s 3ms/step - loss: 0.2172 - accuracy: 0.9382\n",
            "Epoch 9/15\n",
            "1875/1875 [==============================] - 6s 3ms/step - loss: 0.2105 - accuracy: 0.9409\n",
            "Epoch 10/15\n",
            "1875/1875 [==============================] - 6s 3ms/step - loss: 0.2042 - accuracy: 0.9419\n",
            "Epoch 11/15\n",
            "1875/1875 [==============================] - 6s 3ms/step - loss: 0.1977 - accuracy: 0.9434\n",
            "Epoch 12/15\n",
            "1875/1875 [==============================] - 6s 3ms/step - loss: 0.1923 - accuracy: 0.9446\n",
            "Epoch 13/15\n",
            "1875/1875 [==============================] - 6s 3ms/step - loss: 0.1958 - accuracy: 0.9441\n",
            "Epoch 14/15\n",
            "1875/1875 [==============================] - 6s 3ms/step - loss: 0.1895 - accuracy: 0.9456\n",
            "Epoch 15/15\n",
            "1875/1875 [==============================] - 7s 4ms/step - loss: 0.1808 - accuracy: 0.9480\n"
          ]
        },
        {
          "data": {
            "text/plain": [
              "<keras.callbacks.History at 0x7fad12d62590>"
            ]
          },
          "execution_count": 99,
          "metadata": {},
          "output_type": "execute_result"
        }
      ],
      "source": [
        "# train the architecture\n",
        "model.fit(x_train, y_train, epochs=15)"
      ]
    },
    {
      "cell_type": "code",
      "execution_count": null,
      "metadata": {
        "colab": {
          "base_uri": "https://localhost:8080/"
        },
        "id": "IdgtcleFNDI9",
        "outputId": "7af6b6f8-981a-459b-d256-ca2bb25acd30"
      },
      "outputs": [
        {
          "name": "stdout",
          "output_type": "stream",
          "text": [
            "313/313 [==============================] - 1s 2ms/step - loss: 0.2586 - accuracy: 0.9228\n"
          ]
        },
        {
          "data": {
            "text/plain": [
              "[0.2586139142513275, 0.9228000044822693]"
            ]
          },
          "execution_count": 96,
          "metadata": {},
          "output_type": "execute_result"
        }
      ],
      "source": [
        "# test the performance\n",
        "model.evaluate(x_test, y_test)"
      ]
    },
    {
      "cell_type": "markdown",
      "source": [
        "# 2. Expressivity\n",
        "\n",
        "**Part (a):** In Yarotsky (2016) it is proven that $f(x) = x^2$ on $[0, 1]$ can be approximated with any error $\\varepsilon > 0$ by a ReLU network having the depth and the number of weights and computation units $O(\\log(1/\\varepsilon))$. The proof relies on the following statement:\n",
        "\n",
        "**Claim:** Let $f_m$ be the piece-wise linear interpolation of $f(x) = x^2$ with $2^m+1$ uniformly distributed breakpoints $k$ , $k = 0,...,2^m$. The function $f$ approximates $f$ with the error $\\epsilon = 2^{−2m−2}$ (in the $\\ell^\\infty$ norm).\n",
        "\n",
        "Prove this statement."
      ],
      "metadata": {
        "id": "Y9Hh1yKMms_N"
      }
    },
    {
      "cell_type": "markdown",
      "source": [
        "*Solution.* We note the following general result: let $f(x) = x^2$ on $x \\in [a,b]$ and $g(x)$ be its linear interpolation between the points $(a,a^2)$ and $(b,b^2)$, where $0\\leq a<b \\leq 1$. Then we have \n",
        "$$\n",
        "  g(x) = \\frac{b^2-a^2}{b-a}(x-a) + a^2 \\geq f(x), \\quad \\forall x \\in [a,b]\n",
        "$$\n",
        "We would like to find the maximum of $h(x) = g(x) - f(x)$. We note that\n",
        "$$\n",
        "  h'(x) = \\frac{b^2-a^2}{b-a} - 2x, \\quad h(x^*) = 0 \\text{ when } x^* = \\frac{b^2-a^2}{2(b-a)}\n",
        "$$\n",
        "Here $x^*$ is a maximum over $[a,b]$, because $h''(x) = -2 < 0$. Now we have\n",
        "$$\n",
        "\\sup_{x \\in [a,b]} |h(x)| = h(x^*) = 2x^* (x^* - a) + a^2 - (x^*)^2 = (x^* - a)^2.\n",
        "$$\n",
        "With this general result, we can plug in $a = k/2^m$ and $b = (k+1)/2^m$ for any $k = 0,...,2^m-1$. This leads to $x^* = (2k+1)/2^{m+1}$, and hence we conclude that the $\\ell^\\infty$ norm of approximation is\n",
        "$$\n",
        "\\sup_{x\\in [0,1]}|f_m(x) - f(x)| = \\left(\\frac{2k+1}{2^{m+1}} - \\frac{k}{2^m} \\right)^2 = 2^{-2m-2}.\n",
        "$$"
      ],
      "metadata": {
        "id": "g0KeY1LYmsyA"
      }
    },
    {
      "cell_type": "markdown",
      "source": [
        "**Part (b):** Recall from lectures that the ‘sawtooth’ function can be created by iteratively composing the single-hidden-layer network $f(x) = \\sigma(2\\sigma(x) − 4\\sigma(x − 1/2))$, where $\\sigma(x) = x_+ = max(x, 0)$. Can the same be achieved with a network of the same width and depth if hard-tanh activations are used instead of ReLU? If so, write down the corresponding function."
      ],
      "metadata": {
        "id": "M9PGuEbtqxyI"
      }
    },
    {
      "cell_type": "markdown",
      "source": [
        "*Solution.* Yes! Writing $\\sigma$ as the $\\mathsf{hardtanh}$ function, then the following function is a sawtooth\n",
        "$$f(x) = \\frac{1}{2}{\\sigma(4x-1) - \\sigma(4x-3)}.$$"
      ],
      "metadata": {
        "id": "yJBH3RUFrHom"
      }
    },
    {
      "cell_type": "markdown",
      "source": [
        "**Part (c):** Consider $n$-ap problem (the $n$-alternating-point problem). Dataset consisting of a set of $n$ uniformly spaced points within $[0, 1 − 2^{−n}]$ with alternating labels, i.e., the pairs $(x_i, y_i)$ with $x_i = i2^{−n}$, and $y_i = 0$ when $i$ is even. How many layers does a width-2 ReLU network need in order to have the capacity to solve the $n$-ap problem? How wide would the layers need to be if there were only two layers?"
      ],
      "metadata": {
        "id": "koSfjJMXylCr"
      }
    },
    {
      "cell_type": "markdown",
      "source": [
        "*Solution.* We need at least $2n$ layers for a width-2 ReLU network to solve the $n$-ap problem. We need $2^n$ layers for a 2-layer ReLU network to solve the $n$-ap problem."
      ],
      "metadata": {
        "id": "dLPkbnfG0KT-"
      }
    },
    {
      "cell_type": "markdown",
      "metadata": {
        "id": "fbdIpyUpNxec"
      },
      "source": [
        "**Part (d): Train NN on n-ap probem.** The **$n$-ap problem** was shown to have an optimal solution with a particular construction of neural network. Do we find these coefficients/weights when training a network with that structure from randomly initialised weights?\n",
        "\n",
        "Let's create an K-ap dataset for K = 3 and visualize the points by plotting. Then implement and train a network of the minimum necessary depth (identified in the previous question) to solve the n-ap problem for n = 3 (i.e. 8 points) (see the code outline in the attached notebook). How well does it perform? Does it converges?\n",
        "\n",
        "*Comment:* It does not converge!"
      ]
    },
    {
      "cell_type": "code",
      "execution_count": 14,
      "metadata": {
        "id": "hxwKrnWmPzrG",
        "colab": {
          "base_uri": "https://localhost:8080/"
        },
        "outputId": "ef5651e2-ccff-483c-a0dd-a7a538ac182d"
      },
      "outputs": [
        {
          "output_type": "stream",
          "name": "stdout",
          "text": [
            "Epoch 1/5\n",
            "1/1 [==============================] - 1s 1s/step - loss: 7.7125 - accuracy: 0.5000\n",
            "Epoch 2/5\n",
            "1/1 [==============================] - 0s 16ms/step - loss: 7.7125 - accuracy: 0.5000\n",
            "Epoch 3/5\n",
            "1/1 [==============================] - 0s 14ms/step - loss: 7.7125 - accuracy: 0.5000\n",
            "Epoch 4/5\n",
            "1/1 [==============================] - 0s 16ms/step - loss: 7.7125 - accuracy: 0.5000\n",
            "Epoch 5/5\n",
            "1/1 [==============================] - 0s 18ms/step - loss: 7.7125 - accuracy: 0.5000\n",
            "1/1 [==============================] - 1s 735ms/step - loss: 7.7125 - accuracy: 0.5000\n",
            "\n",
            "accuracy: 50.00%\n",
            "1/1 [==============================] - 0s 74ms/step\n",
            "Y=[0], Predicted=[0. 0.]\n",
            "Y=[1], Predicted=[0. 0.]\n",
            "Y=[0], Predicted=[0. 0.]\n",
            "Y=[1], Predicted=[0. 0.]\n",
            "Y=[0], Predicted=[0. 0.]\n",
            "Y=[1], Predicted=[0. 0.]\n",
            "Y=[0], Predicted=[0. 0.]\n",
            "Y=[1], Predicted=[0. 0.]\n"
          ]
        }
      ],
      "source": [
        "import numpy as np\n",
        "from keras.models import Sequential\n",
        "from keras.layers import Dense, Dropout\n",
        "from keras import Input\n",
        "\n",
        "# Generate data\n",
        "X = np.array([[0],\n",
        "                  [.125],\n",
        "                  [.25],\n",
        "                  [.375],\n",
        "                  [.5],\n",
        "                  [.625],\n",
        "                  [.75],\n",
        "                  [.875]])\n",
        "y = np.array([[0],[1],[0],[1],[0],[1],[0],[1]])\n",
        "x_train = X\n",
        "y_train = y\n",
        "\n",
        "# Build a model\n",
        "model = Sequential()\n",
        "model.add(Input(shape=(1)))\n",
        "model.add(Dense(2, activation=\"relu\"))\n",
        "model.add(Dense(2, activation=\"relu\"))\n",
        "model.add(Dense(2, activation=\"relu\"))\n",
        "model.add(Dense(2, activation=\"relu\"))\n",
        "model.add(Dense(2, activation=\"relu\"))\n",
        "model.add(Dense(2, activation=\"relu\"))\n",
        "\n",
        "model.compile(loss='binary_crossentropy', optimizer='adam', metrics=['accuracy'])\n",
        "\n",
        "# Train the model\n",
        "model.fit(x_train, y_train, epochs=5)\n",
        "\n",
        "scores = model.evaluate(X, y)\n",
        "print(\"\\n%s: %.2f%%\" % (model.metrics_names[1], scores[1]*100))\n",
        "\n",
        "ynew = model.predict(x_train)\n",
        "for i in range(len(x_train)):\n",
        "\tprint(\"Y=%s, Predicted=%s\" % (y_train[i], ynew[i]))"
      ]
    },
    {
      "cell_type": "markdown",
      "metadata": {
        "id": "_zVbcSsha9xQ"
      },
      "source": [
        "And now let's plot the modelled function\n",
        "\n",
        "\n"
      ]
    },
    {
      "cell_type": "code",
      "execution_count": 9,
      "metadata": {
        "id": "T5V40mAne235",
        "colab": {
          "base_uri": "https://localhost:8080/",
          "height": 282
        },
        "outputId": "3a287a77-6357-4a70-ff88-26dec94b61d5"
      },
      "outputs": [
        {
          "output_type": "stream",
          "name": "stdout",
          "text": [
            "32/32 [==============================] - 0s 1ms/step\n"
          ]
        },
        {
          "output_type": "display_data",
          "data": {
            "text/plain": [
              "<Figure size 432x288 with 1 Axes>"
            ],
            "image/png": "[encoded data removed]"
          },
          "metadata": {
            "needs_background": "light"
          }
        }
      ],
      "source": [
        "import matplotlib.pyplot as plt\n",
        "\n",
        "def plot_model(nn,x,y):\n",
        "  xx = np.linspace(0,1,1000).reshape(-1,1) # replaced with 10000\n",
        "  yy = np.argmax(nn.predict(xx), axis=1)\n",
        "  fig = plt.figure()\n",
        "  plt.plot(xx,yy)\n",
        "  plt.plot(x,y,'rx')\n",
        "  \n",
        "plot_model(model, x_train, y_train)"
      ]
    },
    {
      "cell_type": "markdown",
      "metadata": {
        "id": "p2k7mG-BaBPn"
      },
      "source": [
        "**Part (e): Perturbed Solution of the n-ap problem.** Why is this optimum so hard to find? Let's implement the optimal function directly and see how a small perturbation to the parameters changes the function it computes. What happens to the function? Does this tell us anything about the loss function which was optimised to train this network in the previous question?\n",
        "\n",
        "*Solution.* The function changes quite a lot! I guess then it indicates that the loss function is very rough and contains lots of minimum!"
      ]
    },
    {
      "cell_type": "code",
      "execution_count": 55,
      "metadata": {
        "id": "_8lV3gR-aFNd"
      },
      "outputs": [],
      "source": [
        "# Fill in the weights and bias vactors given the optimal function to be composed, given in question 1b\n",
        "\n",
        "w1 = np.array([[1], [1]])\n",
        "b1 = np.array([[0], [-1/2]])\n",
        "w2 = np.array([[2, -4]])"
      ]
    },
    {
      "cell_type": "code",
      "execution_count": 56,
      "metadata": {
        "id": "-2elCP_RaHrg"
      },
      "outputs": [],
      "source": [
        "def relu(x):\n",
        "  return np.maximum(x,0)\n",
        "\n",
        "class f():\n",
        "  def __init__(self, num_blocks, noise_stddev=0):\n",
        "    self.weights  = []\n",
        "    self.biases = []\n",
        "    for i in range(num_blocks):\n",
        "      w1_n = w1+ np.random.normal(scale = noise_stddev, size = w1.shape)\n",
        "      w2_n = w2+ np.random.normal(scale = noise_stddev, size = w2.shape)\n",
        "      b1_n = b1+ np.random.normal(scale = noise_stddev, size = b1.shape)\n",
        "      self.weights.append([w1_n,w2_n])\n",
        "      self.biases.append(b1_n)\n",
        "  \n",
        "  def forward(self,x):\n",
        "    output = x\n",
        "    for i in range(len(self.weights)):\n",
        "      output = relu(self.weights[i][1] @ (relu(self.weights[i][0] @ output + self.biases[i])))\n",
        "    return output"
      ]
    },
    {
      "cell_type": "code",
      "execution_count": 57,
      "metadata": {
        "id": "NBfBGCy5aRI3"
      },
      "outputs": [],
      "source": [
        "x = np.expand_dims(np.linspace(0,1,10000), 0)"
      ]
    },
    {
      "cell_type": "code",
      "execution_count": 72,
      "metadata": {
        "id": "PARdoS6CaT3C",
        "colab": {
          "base_uri": "https://localhost:8080/",
          "height": 282
        },
        "outputId": "3e204019-bb11-49b4-8072-1658d85fcec0"
      },
      "outputs": [
        {
          "output_type": "execute_result",
          "data": {
            "text/plain": [
              "<matplotlib.legend.Legend at 0x7f4402dcd990>"
            ]
          },
          "metadata": {},
          "execution_count": 72
        },
        {
          "output_type": "display_data",
          "data": {
            "text/plain": [
              "<Figure size 432x288 with 1 Axes>"
            ],
            "image/png": "[encoded data removed]"
          },
          "metadata": {
            "needs_background": "light"
          }
        }
      ],
      "source": [
        "no_noise = f(3,0)\n",
        "noise = f(3,0.1)\n",
        "\n",
        "plt.figure()\n",
        "plt.plot(x[0,:], no_noise.forward(x).T, label = \"Without noise\")\n",
        "\n",
        "plt.plot(x[0,:], noise.forward(x).T, label = \"With noise\")\n",
        "plt.legend()"
      ]
    },
    {
      "cell_type": "markdown",
      "metadata": {
        "id": "GRVwoXF8avNB"
      },
      "source": [
        "**Part (f): Interatction Between Depth and Width.** Experiment with the associated Google Colab notebook code for approximating a one dimensional piecewise smooth function. Experiment with varying the width and depth of the network. In other lectures you will learn more about the training options, such as batch-size and various optimisation algorithms; the defaults in the code provided will not allow for high accuracy training. In order to contrast the depth versus width with ReLU activations you can compute the number of places where the slope changes in the generated function, and consider the width needed to achieve the same approximation with a depth 2 network. Also, try generating a two dimension piecewise smooth function and learn a network that approximates it."
      ]
    },
    {
      "cell_type": "code",
      "execution_count": null,
      "metadata": {
        "colab": {
          "base_uri": "https://localhost:8080/"
        },
        "id": "RbyNydJZazTE",
        "outputId": "397ab38e-f65c-46ed-efa4-a29f0cb95358"
      },
      "outputs": [
        {
          "name": "stdout",
          "output_type": "stream",
          "text": [
            "Epoch 1/20\n",
            "313/313 [==============================] - 1s 2ms/step - loss: 0.0822 - mse: 0.0822\n",
            "Epoch 2/20\n",
            "313/313 [==============================] - 1s 2ms/step - loss: 0.0384 - mse: 0.0384\n",
            "Epoch 3/20\n",
            "313/313 [==============================] - 1s 2ms/step - loss: 0.0063 - mse: 0.0063\n",
            "Epoch 4/20\n",
            "313/313 [==============================] - 1s 2ms/step - loss: 0.0040 - mse: 0.0040\n",
            "Epoch 5/20\n",
            "313/313 [==============================] - 1s 2ms/step - loss: 0.0036 - mse: 0.0036\n",
            "Epoch 6/20\n",
            "313/313 [==============================] - 1s 2ms/step - loss: 0.0033 - mse: 0.0033\n",
            "Epoch 7/20\n",
            "313/313 [==============================] - 1s 2ms/step - loss: 0.0026 - mse: 0.0026\n",
            "Epoch 8/20\n",
            "313/313 [==============================] - 1s 2ms/step - loss: 0.0033 - mse: 0.0033\n",
            "Epoch 9/20\n",
            "313/313 [==============================] - 1s 2ms/step - loss: 0.0024 - mse: 0.0024\n",
            "Epoch 10/20\n",
            "313/313 [==============================] - 1s 2ms/step - loss: 0.0026 - mse: 0.0026\n",
            "Epoch 11/20\n",
            "313/313 [==============================] - 1s 2ms/step - loss: 0.0029 - mse: 0.0029\n",
            "Epoch 12/20\n",
            "313/313 [==============================] - 1s 2ms/step - loss: 0.0021 - mse: 0.0021\n",
            "Epoch 13/20\n",
            "313/313 [==============================] - 1s 2ms/step - loss: 0.0022 - mse: 0.0022\n",
            "Epoch 14/20\n",
            "313/313 [==============================] - 1s 2ms/step - loss: 0.0021 - mse: 0.0021\n",
            "Epoch 15/20\n",
            "313/313 [==============================] - 1s 2ms/step - loss: 0.0026 - mse: 0.0026\n",
            "Epoch 16/20\n",
            "313/313 [==============================] - 1s 2ms/step - loss: 0.0022 - mse: 0.0022\n",
            "Epoch 17/20\n",
            "313/313 [==============================] - 1s 2ms/step - loss: 0.0022 - mse: 0.0022\n",
            "Epoch 18/20\n",
            "313/313 [==============================] - 1s 2ms/step - loss: 0.0017 - mse: 0.0017\n",
            "Epoch 19/20\n",
            "313/313 [==============================] - 1s 2ms/step - loss: 0.0028 - mse: 0.0028\n",
            "Epoch 20/20\n",
            "313/313 [==============================] - 1s 2ms/step - loss: 0.0025 - mse: 0.0025\n"
          ]
        },
        {
          "data": {
            "text/plain": [
              "<keras.callbacks.History at 0x7fbb5aacd890>"
            ]
          },
          "execution_count": 3,
          "metadata": {},
          "output_type": "execute_result"
        }
      ],
      "source": [
        "import numpy as np\n",
        "import matplotlib.pyplot as plt\n",
        "from keras.models import Sequential\n",
        "from keras.layers import Dense\n",
        "import tensorflow as tf\n",
        "\n",
        "train_samples=10000\n",
        "\n",
        "x_train=np.expand_dims(np.sort(np.random.uniform(0,1,train_samples)), 1)\n",
        "\n",
        "#generate samples of y=sin(x * pi) for x\\in[0,1) and y=x^2 for x\\in[1/2,1]\n",
        "def test_func(x):\n",
        "    return np.sin(x*np.pi)*(x<1/2) + x**2*(x>=1/2)\n",
        "\n",
        "y_train=test_func(x_train)\n",
        "\n",
        "#uncommenting the below shows the samples\n",
        "#plt.figure()\n",
        "#plt.plot(x_train,y_train)\n",
        "\n",
        "#we now train a network base on the samples (x_train,y_train) and evaluate it on x_test.\n",
        "\n",
        "#consider varying the network width and depth, \n",
        "#width and depth are controlled through the variables \"width\" and \"depths respectively\", \n",
        "\n",
        "width=10\n",
        "depth=10\n",
        "\n",
        "model = Sequential()\n",
        "model.add(Dense(width, input_dim=1, activation='relu'))\n",
        "\n",
        "for i in range(depth-2):\n",
        "  model.add(Dense(width, activation='relu'))\n",
        "\n",
        "model.add(Dense(1))\n",
        "\n",
        "model.compile(loss=tf.keras.losses.MeanSquaredError(), optimizer = 'adam',  metrics=['mse'])\n",
        "\n",
        "model.fit(x_train, y_train, epochs=20, batch_size=32,verbose=1)\n",
        "\n",
        "# scores = model.evaluate(X, y)\n",
        "# print(\"\\n%s: %.2f%%\" % (model.metrics_names[1], scores[1]*100))"
      ]
    },
    {
      "cell_type": "code",
      "execution_count": null,
      "metadata": {
        "colab": {
          "base_uri": "https://localhost:8080/",
          "height": 283
        },
        "id": "1-__gjJPa882",
        "outputId": "2a00bcdc-92c0-4097-9471-59406c065ebb"
      },
      "outputs": [
        {
          "data": {
            "text/plain": [
              "<matplotlib.legend.Legend at 0x7fbb5921b990>"
            ]
          },
          "execution_count": 4,
          "metadata": {},
          "output_type": "execute_result"
        },
        {
          "data": {
            "image/png": "[encoded data removed]",
            "text/plain": [
              "<Figure size 432x288 with 1 Axes>"
            ]
          },
          "metadata": {},
          "output_type": "display_data"
        }
      ],
      "source": [
        "x_test=np.linspace(0,1,10000)\n",
        "y_test = test_func(x_test)\n",
        "\n",
        "x_test = np.expand_dims(x_test,  axis=1)\n",
        "y_test_estimate = model(x_test)\n",
        "\n",
        "plt.figure()\n",
        "plt.plot(x_test,y_test_estimate, label = \"fitted\")\n",
        "plt.plot(x_test, y_test, label = \"ground truth\")\n",
        "plt.legend()"
      ]
    },
    {
      "cell_type": "markdown",
      "metadata": {
        "id": "oPP_7EuecVk-"
      },
      "source": [
        "Try and do something similar to the code above - but for a 2-d function\n"
      ]
    }
  ],
  "metadata": {
    "colab": {
      "collapsed_sections": [],
      "provenance": [],
      "include_colab_link": true
    },
    "kernelspec": {
      "display_name": "Python 3",
      "name": "python3"
    }
  },
  "nbformat": 4,
  "nbformat_minor": 0
}